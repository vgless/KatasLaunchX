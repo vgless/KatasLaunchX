{
 "cells": [
  {
   "cell_type": "markdown",
   "metadata": {},
   "source": [
    "# Kata 5"
   ]
  },
  {
   "cell_type": "markdown",
   "metadata": {},
   "source": [
    "# Ejercicio 1: Operadores aritméticos"
   ]
  },
  {
   "cell_type": "code",
   "execution_count": 1,
   "metadata": {},
   "outputs": [],
   "source": [
    "# Iniciar variables para almacenar las 2 distancias\n",
    "\n",
    "dTierra = 149597870\n",
    "dJupiter = 778547200"
   ]
  },
  {
   "cell_type": "code",
   "execution_count": 2,
   "metadata": {},
   "outputs": [
    {
     "name": "stdout",
     "output_type": "stream",
     "text": [
      "628949330\n",
      "390577534\n"
     ]
    }
   ],
   "source": [
    "# Calcular la distancia entre los planetas\n",
    "\n",
    "Resta =  abs(dTierra-dJupiter)\n",
    "Millas = Resta*0.621\n",
    "print(Resta)\n",
    "print(round(Millas))"
   ]
  },
  {
   "cell_type": "markdown",
   "metadata": {},
   "source": [
    "## Ejercicio 2: convierte cadenas en números y usar valores absolutos"
   ]
  },
  {
   "cell_type": "code",
   "execution_count": 16,
   "metadata": {},
   "outputs": [
    {
     "name": "stdout",
     "output_type": "stream",
     "text": [
      "Mercurio: 57900000\n",
      "Venus: 108200000\n",
      "Tierra: 149600000\n",
      "Marte: 227900000\n",
      "Jupiter: 778600000\n",
      "Saturno: 1433500000\n",
      "Urano: 2872500000\n",
      "Neptuno: 4495100000\n",
      "\n",
      "Planeta 1:  4495100000\n",
      "Planeta 2 778600000\n"
     ]
    }
   ],
   "source": [
    "print('Mercurio: 57900000')\n",
    "print('Venus: 108200000')\n",
    "print('Tierra: 149600000')\n",
    "print('Marte: 227900000')\n",
    "print('Jupiter: 778600000')\n",
    "print('Saturno: 1433500000')\n",
    "print('Urano: 2872500000')\n",
    "print('Neptuno: 4495100000')\n",
    "print('')\n",
    "\n",
    "planet1=input(\"Captura la distancia al sol del planeta 1: \")\n",
    "planet2=input(\"Captura la distancia al sol del planeta 2: \")\n",
    "\n",
    "# se almacenan los valores\n",
    "captura=(int(planet1))\n",
    "print(\"Planeta 1: \", captura)\n",
    "captura2=(int(planet2))\n",
    "print(\"Planeta 2: \", captura2)"
   ]
  },
  {
   "cell_type": "code",
   "execution_count": 17,
   "metadata": {},
   "outputs": [
    {
     "name": "stdout",
     "output_type": "stream",
     "text": [
      "Distancia en Km:  -3716500000\n",
      "Distancia en millas:  -2307946500.0\n"
     ]
    }
   ],
   "source": [
    "distance_km = captura2 - captura\n",
    "print(\"Distancia en Km: \", distance_km)\n",
    "\n",
    "distance_mi = distance_km * 0.621\n",
    "print(\"Distancia en millas: \", distance_mi)"
   ]
  }
 ],
 "metadata": {
  "interpreter": {
   "hash": "605c5d8832f796bf576576389b10501300c62e9b8041545d0762e8b1373c9a99"
  },
  "kernelspec": {
   "display_name": "Python 3.10.2 64-bit (windows store)",
   "language": "python",
   "name": "python3"
  },
  "language_info": {
   "codemirror_mode": {
    "name": "ipython",
    "version": 3
   },
   "file_extension": ".py",
   "mimetype": "text/x-python",
   "name": "python",
   "nbconvert_exporter": "python",
   "pygments_lexer": "ipython3",
   "version": "3.10.2"
  },
  "orig_nbformat": 4
 },
 "nbformat": 4,
 "nbformat_minor": 2
}
